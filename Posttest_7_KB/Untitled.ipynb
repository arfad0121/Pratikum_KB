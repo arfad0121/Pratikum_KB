{
 "cells": [
  {
   "cell_type": "code",
   "execution_count": 6,
   "id": "b957d004",
   "metadata": {},
   "outputs": [],
   "source": [
    "import tensorflow as tf\n",
    "import numpy as np"
   ]
  },
  {
   "cell_type": "markdown",
   "id": "a7e086e5",
   "metadata": {},
   "source": [
    "## Random tensor dengan shape (5,5)"
   ]
  },
  {
   "cell_type": "code",
   "execution_count": 20,
   "id": "000a5971",
   "metadata": {},
   "outputs": [],
   "source": [
    "random_tensor = np.around(tf.random.normal([5,5]))"
   ]
  },
  {
   "cell_type": "code",
   "execution_count": 21,
   "id": "ee771e4e",
   "metadata": {},
   "outputs": [
    {
     "data": {
      "text/plain": [
       "array([[-0., -1., -1., -1.,  0.],\n",
       "       [-1., -1.,  0., -3., -2.],\n",
       "       [-0., -0., -0.,  0., -1.],\n",
       "       [ 1., -1.,  2.,  2.,  0.],\n",
       "       [-0.,  0.,  0.,  1., -1.]], dtype=float32)"
      ]
     },
     "execution_count": 21,
     "metadata": {},
     "output_type": "execute_result"
    }
   ],
   "source": [
    "random_tensor"
   ]
  },
  {
   "cell_type": "markdown",
   "id": "1d98b10a",
   "metadata": {},
   "source": [
    "## Tensor bilangan prima dengan shape (5,5)"
   ]
  },
  {
   "cell_type": "code",
   "execution_count": 22,
   "id": "938d04fb",
   "metadata": {},
   "outputs": [],
   "source": [
    "list = [[1, 2, 3, 5, 7], [11, 13, 17, 19, 23], [29, 31, 37, 41, 43], [47, 53, 59, 61, 71], [73, 79, 83, 89, 97]]"
   ]
  },
  {
   "cell_type": "code",
   "execution_count": 23,
   "id": "b72059e2",
   "metadata": {},
   "outputs": [],
   "source": [
    "prime_tensor = tf.convert_to_tensor(list, dtype=tf.float32)"
   ]
  },
  {
   "cell_type": "code",
   "execution_count": 24,
   "id": "8f40494d",
   "metadata": {},
   "outputs": [
    {
     "data": {
      "text/plain": [
       "<tf.Tensor: shape=(5, 5), dtype=float32, numpy=\n",
       "array([[ 1.,  2.,  3.,  5.,  7.],\n",
       "       [11., 13., 17., 19., 23.],\n",
       "       [29., 31., 37., 41., 43.],\n",
       "       [47., 53., 59., 61., 71.],\n",
       "       [73., 79., 83., 89., 97.]], dtype=float32)>"
      ]
     },
     "execution_count": 24,
     "metadata": {},
     "output_type": "execute_result"
    }
   ],
   "source": [
    "prime_tensor"
   ]
  },
  {
   "cell_type": "markdown",
   "id": "8fe838fe",
   "metadata": {},
   "source": [
    "## Dimensi ketiga Tensor"
   ]
  },
  {
   "cell_type": "code",
   "execution_count": 25,
   "id": "96c372a9",
   "metadata": {},
   "outputs": [
    {
     "data": {
      "text/plain": [
       "(5, 5)"
      ]
     },
     "execution_count": 25,
     "metadata": {},
     "output_type": "execute_result"
    }
   ],
   "source": [
    "random_tensor.shape"
   ]
  },
  {
   "cell_type": "code",
   "execution_count": 26,
   "id": "de7b13ed",
   "metadata": {},
   "outputs": [
    {
     "data": {
      "text/plain": [
       "TensorShape([5, 5])"
      ]
     },
     "execution_count": 26,
     "metadata": {},
     "output_type": "execute_result"
    }
   ],
   "source": [
    "prime_tensor.shape"
   ]
  },
  {
   "cell_type": "code",
   "execution_count": 87,
   "id": "747eacfd",
   "metadata": {},
   "outputs": [
    {
     "data": {
      "text/plain": [
       "TensorShape([5, 5])"
      ]
     },
     "execution_count": 87,
     "metadata": {},
     "output_type": "execute_result"
    }
   ],
   "source": [
    "genap_tensor.shape"
   ]
  },
  {
   "cell_type": "markdown",
   "id": "c935bacf",
   "metadata": {},
   "source": [
    "## Perhitungan Aritmatika dua Variable"
   ]
  },
  {
   "cell_type": "code",
   "execution_count": 100,
   "id": "dfa75beb",
   "metadata": {},
   "outputs": [],
   "source": [
    "a = random_tensor\n",
    "b = prime_tensor\n",
    "\n",
    "jumlah = tf.add(a, b)\n",
    "kurang = tf.subtract(a, b)\n",
    "kali = tf.multiply(a, b)\n",
    "bagi = tf.divide(a, b)\n",
    "pangkat = tf.pow(a, b)"
   ]
  },
  {
   "cell_type": "code",
   "execution_count": 101,
   "id": "fd62f88b",
   "metadata": {},
   "outputs": [
    {
     "name": "stdout",
     "output_type": "stream",
     "text": [
      "tf.Tensor(\n",
      "[[ 1.  1.  2.  4.  7.]\n",
      " [10. 12. 17. 16. 21.]\n",
      " [29. 31. 37. 41. 42.]\n",
      " [48. 52. 61. 63. 71.]\n",
      " [73. 79. 83. 90. 96.]], shape=(5, 5), dtype=float32)\n"
     ]
    }
   ],
   "source": [
    "print(jumlah)"
   ]
  },
  {
   "cell_type": "code",
   "execution_count": 102,
   "id": "02f5012d",
   "metadata": {},
   "outputs": [
    {
     "name": "stdout",
     "output_type": "stream",
     "text": [
      "tf.Tensor(\n",
      "[[ -1.  -3.  -4.  -6.  -7.]\n",
      " [-12. -14. -17. -22. -25.]\n",
      " [-29. -31. -37. -41. -44.]\n",
      " [-46. -54. -57. -59. -71.]\n",
      " [-73. -79. -83. -88. -98.]], shape=(5, 5), dtype=float32)\n"
     ]
    }
   ],
   "source": [
    "print(kurang)"
   ]
  },
  {
   "cell_type": "code",
   "execution_count": 103,
   "id": "5c621594",
   "metadata": {},
   "outputs": [
    {
     "name": "stdout",
     "output_type": "stream",
     "text": [
      "tf.Tensor(\n",
      "[[ -0.  -2.  -3.  -5.   0.]\n",
      " [-11. -13.   0. -57. -46.]\n",
      " [ -0.  -0.  -0.   0. -43.]\n",
      " [ 47. -53. 118. 122.   0.]\n",
      " [ -0.   0.   0.  89. -97.]], shape=(5, 5), dtype=float32)\n"
     ]
    }
   ],
   "source": [
    "print(kali)"
   ]
  },
  {
   "cell_type": "code",
   "execution_count": 104,
   "id": "a1180e8c",
   "metadata": {},
   "outputs": [
    {
     "name": "stdout",
     "output_type": "stream",
     "text": [
      "tf.Tensor(\n",
      "[[-0.         -0.5        -0.33333334 -0.2         0.        ]\n",
      " [-0.09090909 -0.07692308  0.         -0.15789473 -0.08695652]\n",
      " [-0.         -0.         -0.          0.         -0.02325581]\n",
      " [ 0.0212766  -0.01886792  0.03389831  0.03278688  0.        ]\n",
      " [-0.          0.          0.          0.01123596 -0.01030928]], shape=(5, 5), dtype=float32)\n"
     ]
    }
   ],
   "source": [
    "print(bagi)"
   ]
  },
  {
   "cell_type": "code",
   "execution_count": 105,
   "id": "93930a23",
   "metadata": {},
   "outputs": [
    {
     "name": "stdout",
     "output_type": "stream",
     "text": [
      "tf.Tensor(\n",
      "[[-0.0000000e+00  1.0000000e+00 -1.0000000e+00 -1.0000000e+00\n",
      "   0.0000000e+00]\n",
      " [-1.0000000e+00 -1.0000000e+00  0.0000000e+00 -1.1622615e+09\n",
      "  -8.3886080e+06]\n",
      " [-0.0000000e+00 -0.0000000e+00 -0.0000000e+00  0.0000000e+00\n",
      "  -1.0000000e+00]\n",
      " [ 1.0000000e+00 -1.0000000e+00  5.7646075e+17  2.3058430e+18\n",
      "   0.0000000e+00]\n",
      " [-0.0000000e+00  0.0000000e+00  0.0000000e+00  1.0000000e+00\n",
      "  -1.0000000e+00]], shape=(5, 5), dtype=float32)\n"
     ]
    }
   ],
   "source": [
    "print(pangkat)"
   ]
  },
  {
   "cell_type": "markdown",
   "id": "db87dca0",
   "metadata": {},
   "source": [
    "## Nilai Maksimal dan Minimal dari variable random_tensor"
   ]
  },
  {
   "cell_type": "code",
   "execution_count": 106,
   "id": "d72742ca",
   "metadata": {},
   "outputs": [
    {
     "name": "stdout",
     "output_type": "stream",
     "text": [
      "Maksimal :  tf.Tensor([3 2 3 3 0], shape=(5,), dtype=int64)\n",
      "Minimal :  tf.Tensor([1 0 0 1 1], shape=(5,), dtype=int64)\n"
     ]
    }
   ],
   "source": [
    "print(\"Maksimal : \",tf.argmax(random_tensor))\n",
    "print(\"Minimal : \",tf.argmin(random_tensor))"
   ]
  },
  {
   "cell_type": "markdown",
   "id": "cb168071",
   "metadata": {},
   "source": [
    "## Penggabungan Ketiga tensor"
   ]
  },
  {
   "cell_type": "code",
   "execution_count": 97,
   "id": "aea6bb84",
   "metadata": {},
   "outputs": [
    {
     "name": "stdout",
     "output_type": "stream",
     "text": [
      "tf.Tensor(\n",
      "[[-0. -1. -1. -1.  0.]\n",
      " [-1. -1.  0. -3. -2.]\n",
      " [-0. -0. -0.  0. -1.]\n",
      " [ 1. -1.  2.  2.  0.]\n",
      " [-0.  0.  0.  1. -1.]\n",
      " [ 1.  2.  3.  5.  7.]\n",
      " [11. 13. 17. 19. 23.]\n",
      " [29. 31. 37. 41. 43.]\n",
      " [47. 53. 59. 61. 71.]\n",
      " [73. 79. 83. 89. 97.]\n",
      " [ 2.  4.  6.  8. 10.]\n",
      " [12. 14. 16. 18. 20.]\n",
      " [22. 24. 26. 28. 30.]\n",
      " [32. 34. 36. 38. 40.]\n",
      " [42. 44. 46. 48. 50.]], shape=(15, 5), dtype=float32)\n"
     ]
    }
   ],
   "source": [
    "print(tf.concat([random_tensor, prime_tensor, genap_tensor],axis=0))"
   ]
  },
  {
   "cell_type": "markdown",
   "id": "66d2df19",
   "metadata": {},
   "source": [
    "## Sorting Descending Ketiga Tensor"
   ]
  },
  {
   "cell_type": "markdown",
   "id": "22a063bb",
   "metadata": {},
   "source": [
    "### Sorting random_tensor"
   ]
  },
  {
   "cell_type": "code",
   "execution_count": 80,
   "id": "a9e2bd44",
   "metadata": {},
   "outputs": [
    {
     "name": "stdout",
     "output_type": "stream",
     "text": [
      "Sebelum di sorting secara descending [[-0. -1. -1. -1.  0.]\n",
      " [-1. -1.  0. -3. -2.]\n",
      " [-0. -0. -0.  0. -1.]\n",
      " [ 1. -1.  2.  2.  0.]\n",
      " [-0.  0.  0.  1. -1.]]\n",
      "Sesudah di sorting secara descending tf.Tensor(\n",
      "[[-0.  0. -1. -1. -1.]\n",
      " [ 0. -1. -1. -2. -3.]\n",
      " [-0. -0. -0.  0. -1.]\n",
      " [ 2.  2.  1.  0. -1.]\n",
      " [ 1. -0.  0.  0. -1.]], shape=(5, 5), dtype=float32)\n"
     ]
    }
   ],
   "source": [
    "print(\"Sebelum di sorting secara descending\",random_tensor)\n",
    "rs = tf.sort(random_tensor, direction=\"DESCENDING\")\n",
    "print(\"Sesudah di sorting secara descending\",rs)"
   ]
  },
  {
   "cell_type": "markdown",
   "id": "27dba57f",
   "metadata": {},
   "source": [
    "### Sorting prima_tensor"
   ]
  },
  {
   "cell_type": "code",
   "execution_count": 82,
   "id": "f9d17b83",
   "metadata": {},
   "outputs": [
    {
     "name": "stdout",
     "output_type": "stream",
     "text": [
      "Sebelum di sorting secara descending tf.Tensor(\n",
      "[[ 1.  2.  3.  5.  7.]\n",
      " [11. 13. 17. 19. 23.]\n",
      " [29. 31. 37. 41. 43.]\n",
      " [47. 53. 59. 61. 71.]\n",
      " [73. 79. 83. 89. 97.]], shape=(5, 5), dtype=float32)\n",
      "Sesudah di sorting secara descending tf.Tensor(\n",
      "[[ 7.  5.  3.  2.  1.]\n",
      " [23. 19. 17. 13. 11.]\n",
      " [43. 41. 37. 31. 29.]\n",
      " [71. 61. 59. 53. 47.]\n",
      " [97. 89. 83. 79. 73.]], shape=(5, 5), dtype=float32)\n"
     ]
    }
   ],
   "source": [
    "print(\"Sebelum di sorting secara descending\",prime_tensor)\n",
    "ps = tf.sort(prime_tensor, direction=\"DESCENDING\")\n",
    "print(\"Sesudah di sorting secara descending\",ps)"
   ]
  },
  {
   "cell_type": "markdown",
   "id": "00e6b9a9",
   "metadata": {},
   "source": [
    "### Sorting genap_tensor"
   ]
  },
  {
   "cell_type": "code",
   "execution_count": 98,
   "id": "fb009bfd",
   "metadata": {},
   "outputs": [
    {
     "name": "stdout",
     "output_type": "stream",
     "text": [
      "Sebelum di sorting secara descending tf.Tensor(\n",
      "[[ 2.  4.  6.  8. 10.]\n",
      " [12. 14. 16. 18. 20.]\n",
      " [22. 24. 26. 28. 30.]\n",
      " [32. 34. 36. 38. 40.]\n",
      " [42. 44. 46. 48. 50.]], shape=(5, 5), dtype=float32)\n",
      "Sesudah di sorting secara descending tf.Tensor(\n",
      "[[ 7.  5.  3.  2.  1.]\n",
      " [23. 19. 17. 13. 11.]\n",
      " [43. 41. 37. 31. 29.]\n",
      " [71. 61. 59. 53. 47.]\n",
      " [97. 89. 83. 79. 73.]], shape=(5, 5), dtype=float32)\n"
     ]
    }
   ],
   "source": [
    "print(\"Sebelum di sorting secara descending\",genap_tensor)\n",
    "gs = tf.sort(prime_tensor, direction=\"DESCENDING\")\n",
    "print(\"Sesudah di sorting secara descending\",gs)"
   ]
  }
 ],
 "metadata": {
  "kernelspec": {
   "display_name": "Python 3 (ipykernel)",
   "language": "python",
   "name": "python3"
  },
  "language_info": {
   "codemirror_mode": {
    "name": "ipython",
    "version": 3
   },
   "file_extension": ".py",
   "mimetype": "text/x-python",
   "name": "python",
   "nbconvert_exporter": "python",
   "pygments_lexer": "ipython3",
   "version": "3.10.7"
  }
 },
 "nbformat": 4,
 "nbformat_minor": 5
}
