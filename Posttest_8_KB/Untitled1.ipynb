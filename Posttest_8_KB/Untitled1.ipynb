{
 "cells": [
  {
   "cell_type": "code",
   "execution_count": 6,
   "id": "90c093d1",
   "metadata": {},
   "outputs": [],
   "source": [
    "import os\n",
    "import tensorflow as tf\n",
    "from tensorflow import keras\n",
    "from tensorflow.keras import layers,optimizers,datasets\n",
    "import matplotlib.pyplot as plt\n",
    "import numpy as np\n",
    "import tensorflow_datasets as tfds\n"
   ]
  },
  {
   "cell_type": "code",
   "execution_count": 86,
   "id": "20d418ed",
   "metadata": {},
   "outputs": [],
   "source": [
    "builder = tfds.builder('binarized_mnist')\n",
    "ds = builder.as_dataset(split='test+train[:75%]')"
   ]
  },
  {
   "cell_type": "code",
   "execution_count": 88,
   "id": "c9b1592d",
   "metadata": {},
   "outputs": [],
   "source": [
    "train_ds, test_ds = tfds.load('binarized_mnist', split=['train', 'test[:50%]'])"
   ]
  },
  {
   "cell_type": "code",
   "execution_count": 91,
   "id": "3b4e4d6e",
   "metadata": {},
   "outputs": [
    {
     "data": {
      "text/plain": [
       "<PrefetchDataset element_spec={'image': TensorSpec(shape=(28, 28, 1), dtype=tf.uint8, name=None)}>"
      ]
     },
     "execution_count": 91,
     "metadata": {},
     "output_type": "execute_result"
    }
   ],
   "source": [
    "train_ds"
   ]
  },
  {
   "cell_type": "code",
   "execution_count": 58,
   "id": "e02d119c",
   "metadata": {},
   "outputs": [],
   "source": [
    "data, metadata = tfds.load('binarized_mnist', with_info=True)"
   ]
  },
  {
   "cell_type": "code",
   "execution_count": 60,
   "id": "a760f347",
   "metadata": {},
   "outputs": [],
   "source": [
    "train, test = data['train'], data['test']\n",
    "\n",
    "(train, test), metadata = tfds.load('binarized_mnist', split=['train', 'test'], with_info=True)\n",
    "\n",
    "(data, metadata) = tfds.load('binarized_mnist',split=['train[:90%]', 'train[90%:]', 'test'],with_info=True)\n",
    "\n",
    "train_data = data[0]\n",
    "valid_data = data[1]\n",
    "test_data = data[2]"
   ]
  },
  {
   "cell_type": "code",
   "execution_count": 61,
   "id": "01a6ce65",
   "metadata": {},
   "outputs": [
    {
     "name": "stdout",
     "output_type": "stream",
     "text": [
      "<PrefetchDataset element_spec={'image': TensorSpec(shape=(28, 28, 1), dtype=tf.uint8, name=None)}>\n"
     ]
    }
   ],
   "source": [
    "print(train_data)"
   ]
  },
  {
   "cell_type": "code",
   "execution_count": 62,
   "id": "bc125cd1",
   "metadata": {},
   "outputs": [
    {
     "name": "stdout",
     "output_type": "stream",
     "text": [
      "<PrefetchDataset element_spec={'image': TensorSpec(shape=(28, 28, 1), dtype=tf.uint8, name=None)}>\n"
     ]
    }
   ],
   "source": [
    "print(test_data)"
   ]
  },
  {
   "cell_type": "code",
   "execution_count": 63,
   "id": "d1576ffd",
   "metadata": {},
   "outputs": [
    {
     "name": "stdout",
     "output_type": "stream",
     "text": [
      "<PrefetchDataset element_spec={'image': TensorSpec(shape=(28, 28, 1), dtype=tf.uint8, name=None)}>\n"
     ]
    }
   ],
   "source": [
    "print(valid_data)"
   ]
  },
  {
   "cell_type": "code",
   "execution_count": 51,
   "id": "ae61fd58",
   "metadata": {},
   "outputs": [
    {
     "data": {
      "image/png": "[encoded data removed]",
      "text/plain": [
       "<Figure size 900x900 with 9 Axes>"
      ]
     },
     "metadata": {},
     "output_type": "display_data"
    },
    {
     "data": {
      "image/png": "[encoded data removed]",
      "text/plain": [
       "<Figure size 900x900 with 9 Axes>"
      ]
     },
     "execution_count": 51,
     "metadata": {},
     "output_type": "execute_result"
    }
   ],
   "source": [
    "tfds.show_examples(ds2, info)"
   ]
  },
  {
   "cell_type": "code",
   "execution_count": 70,
   "id": "ec8ec3c3",
   "metadata": {},
   "outputs": [],
   "source": [
    "model_data = keras.Sequential()"
   ]
  },
  {
   "cell_type": "code",
   "execution_count": 71,
   "id": "88f354d9",
   "metadata": {},
   "outputs": [],
   "source": [
    "model_data.add(layers.Dense(512,activation='relu',input_dim=784))\n",
    "model_data.add(layers.Dense(256,activation='relu'))\n",
    "model_data.add(layers.Dense(128,activation='relu'))\n",
    "model_data.add(layers.Dense(10,activation='softmax'))"
   ]
  },
  {
   "cell_type": "code",
   "execution_count": 72,
   "id": "1f2e979f",
   "metadata": {},
   "outputs": [
    {
     "name": "stdout",
     "output_type": "stream",
     "text": [
      "Model: \"sequential\"\n",
      "_________________________________________________________________\n",
      " Layer (type)                Output Shape              Param #   \n",
      "=================================================================\n",
      " dense (Dense)               (None, 512)               401920    \n",
      "                                                                 \n",
      " dense_1 (Dense)             (None, 256)               131328    \n",
      "                                                                 \n",
      " dense_2 (Dense)             (None, 128)               32896     \n",
      "                                                                 \n",
      " dense_3 (Dense)             (None, 10)                1290      \n",
      "                                                                 \n",
      "=================================================================\n",
      "Total params: 567,434\n",
      "Trainable params: 567,434\n",
      "Non-trainable params: 0\n",
      "_________________________________________________________________\n"
     ]
    }
   ],
   "source": [
    "model_data.summary()"
   ]
  },
  {
   "cell_type": "code",
   "execution_count": 73,
   "id": "4dab98e2",
   "metadata": {},
   "outputs": [],
   "source": [
    "Optimizer = optimizers.Adam(learning_rate=0.0001)\n",
    "model_data.compile(loss=keras.losses.categorical_crossentropy,optimizer=Optimizer, metrics=['accuracy'])"
   ]
  }
 ],
 "metadata": {
  "kernelspec": {
   "display_name": "Python 3 (ipykernel)",
   "language": "python",
   "name": "python3"
  },
  "language_info": {
   "codemirror_mode": {
    "name": "ipython",
    "version": 3
   },
   "file_extension": ".py",
   "mimetype": "text/x-python",
   "name": "python",
   "nbconvert_exporter": "python",
   "pygments_lexer": "ipython3",
   "version": "3.10.7"
  }
 },
 "nbformat": 4,
 "nbformat_minor": 5
}
